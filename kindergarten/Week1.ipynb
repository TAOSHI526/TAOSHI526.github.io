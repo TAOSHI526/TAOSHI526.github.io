{
 "cells": [
  {
   "cell_type": "code",
   "execution_count": 1,
   "metadata": {},
   "outputs": [],
   "source": [
    "import pandas as pd\n",
    "from dotenv import load_dotenv\n",
    "import os\n",
    "import requests"
   ]
  },
  {
   "cell_type": "code",
   "execution_count": 2,
   "metadata": {},
   "outputs": [
    {
     "data": {
      "text/plain": [
       "True"
      ]
     },
     "execution_count": 2,
     "metadata": {},
     "output_type": "execute_result"
    }
   ],
   "source": [
    "load_dotenv()"
   ]
  },
  {
   "cell_type": "code",
   "execution_count": 3,
   "metadata": {},
   "outputs": [],
   "source": [
    "api_key = os.getenv('google_api')"
   ]
  },
  {
   "cell_type": "code",
   "execution_count": 4,
   "metadata": {},
   "outputs": [],
   "source": [
    "df = pd.read_csv('kinder.csv')"
   ]
  },
  {
   "cell_type": "code",
   "execution_count": 5,
   "metadata": {},
   "outputs": [
    {
     "data": {
      "text/plain": [
       "Index(['School Name', 'Admission', 'Private/Public School',\n",
       "       'Active Students in 20117'],\n",
       "      dtype='object')"
      ]
     },
     "execution_count": 5,
     "metadata": {},
     "output_type": "execute_result"
    }
   ],
   "source": [
    "df.columns"
   ]
  },
  {
   "cell_type": "code",
   "execution_count": 6,
   "metadata": {},
   "outputs": [],
   "source": [
    "oname=['School Name', 'Admission', 'Private/Public School',\n",
    "       'Active Students in 20117']\n",
    "aname=['school_name', 'ad', 'pri_pub', 'active_stu']\n",
    "\n",
    "name_dict=dict(zip(oname, aname))"
   ]
  },
  {
   "cell_type": "code",
   "execution_count": 7,
   "metadata": {},
   "outputs": [],
   "source": [
    "df = df.rename( columns=name_dict)"
   ]
  },
  {
   "cell_type": "code",
   "execution_count": 8,
   "metadata": {
    "scrolled": true
   },
   "outputs": [
    {
     "data": {
      "text/plain": [
       "array(['Archdiocese of Los Angeles', 'EF International Academy',\n",
       "       'Roman Catholic Diocese of Rockville Centre',\n",
       "       'Archdiocese of Philadelphia', 'Fairmont Private Schools',\n",
       "       'CATS Academy Boston', 'Montverde Academy', 'IMG ACADEMY',\n",
       "       'Archdiocese of Chicago', 'North Broward Preparatory School'],\n",
       "      dtype=object)"
      ]
     },
     "execution_count": 8,
     "metadata": {},
     "output_type": "execute_result"
    }
   ],
   "source": [
    "df.school_name.values[0:10]"
   ]
  },
  {
   "cell_type": "code",
   "execution_count": 9,
   "metadata": {},
   "outputs": [],
   "source": [
    "ad = []\n",
    "for school in df.school_name.values:\n",
    "    url = 'https://maps.googleapis.com/maps/api/geocode/json'\n",
    "    keys = {'address': school, 'key': api_key}\n",
    "    try:\n",
    "        r = requests.get(url,params=keys)\n",
    "        result_dic = r.json()\n",
    "        ad.append(result_dic['results'][0]['geometry']['location'])\n",
    "    except:\n",
    "        ad.append(None)"
   ]
  },
  {
   "cell_type": "code",
   "execution_count": 10,
   "metadata": {},
   "outputs": [],
   "source": [
    "df['latlong']=ad"
   ]
  },
  {
   "cell_type": "code",
   "execution_count": 11,
   "metadata": {},
   "outputs": [
    {
     "data": {
      "text/html": [
       "<div>\n",
       "<style scoped>\n",
       "    .dataframe tbody tr th:only-of-type {\n",
       "        vertical-align: middle;\n",
       "    }\n",
       "\n",
       "    .dataframe tbody tr th {\n",
       "        vertical-align: top;\n",
       "    }\n",
       "\n",
       "    .dataframe thead th {\n",
       "        text-align: right;\n",
       "    }\n",
       "</style>\n",
       "<table border=\"1\" class=\"dataframe\">\n",
       "  <thead>\n",
       "    <tr style=\"text-align: right;\">\n",
       "      <th></th>\n",
       "      <th>school_name</th>\n",
       "      <th>ad</th>\n",
       "      <th>pri_pub</th>\n",
       "      <th>active_stu</th>\n",
       "      <th>latlong</th>\n",
       "    </tr>\n",
       "  </thead>\n",
       "  <tbody>\n",
       "    <tr>\n",
       "      <th>0</th>\n",
       "      <td>Archdiocese of Los Angeles</td>\n",
       "      <td>F‐1</td>\n",
       "      <td>Private, non‐profit</td>\n",
       "      <td>1,625</td>\n",
       "      <td>{'lat': 34.0613259, 'lng': -118.2983873}</td>\n",
       "    </tr>\n",
       "    <tr>\n",
       "      <th>1</th>\n",
       "      <td>EF International Academy</td>\n",
       "      <td>F‐1</td>\n",
       "      <td>Private, for profit</td>\n",
       "      <td>1,043</td>\n",
       "      <td>{'lat': 41.1068651, 'lng': -73.76860099999999}</td>\n",
       "    </tr>\n",
       "    <tr>\n",
       "      <th>2</th>\n",
       "      <td>Roman Catholic Diocese of Rockville Centre</td>\n",
       "      <td>F‐1</td>\n",
       "      <td>Private, non‐profit</td>\n",
       "      <td>911</td>\n",
       "      <td>{'lat': 40.6578232, 'lng': -73.6453058}</td>\n",
       "    </tr>\n",
       "    <tr>\n",
       "      <th>3</th>\n",
       "      <td>Archdiocese of Philadelphia</td>\n",
       "      <td>F‐1</td>\n",
       "      <td>Private, non‐profit</td>\n",
       "      <td>765</td>\n",
       "      <td>{'lat': 39.9575083, 'lng': -75.1677624}</td>\n",
       "    </tr>\n",
       "    <tr>\n",
       "      <th>4</th>\n",
       "      <td>Fairmont Private Schools</td>\n",
       "      <td>F‐1</td>\n",
       "      <td>Private, for profit</td>\n",
       "      <td>716</td>\n",
       "      <td>{'lat': 33.830368, 'lng': -117.9360249}</td>\n",
       "    </tr>\n",
       "  </tbody>\n",
       "</table>\n",
       "</div>"
      ],
      "text/plain": [
       "                                  school_name   ad              pri_pub  \\\n",
       "0                  Archdiocese of Los Angeles  F‐1  Private, non‐profit   \n",
       "1                    EF International Academy  F‐1  Private, for profit   \n",
       "2  Roman Catholic Diocese of Rockville Centre  F‐1  Private, non‐profit   \n",
       "3                 Archdiocese of Philadelphia  F‐1  Private, non‐profit   \n",
       "4                    Fairmont Private Schools  F‐1  Private, for profit   \n",
       "\n",
       "  active_stu                                         latlong  \n",
       "0      1,625        {'lat': 34.0613259, 'lng': -118.2983873}  \n",
       "1      1,043  {'lat': 41.1068651, 'lng': -73.76860099999999}  \n",
       "2        911         {'lat': 40.6578232, 'lng': -73.6453058}  \n",
       "3        765         {'lat': 39.9575083, 'lng': -75.1677624}  \n",
       "4        716         {'lat': 33.830368, 'lng': -117.9360249}  "
      ]
     },
     "execution_count": 11,
     "metadata": {},
     "output_type": "execute_result"
    }
   ],
   "source": [
    "df.head()"
   ]
  },
  {
   "cell_type": "code",
   "execution_count": 12,
   "metadata": {},
   "outputs": [],
   "source": [
    "df['lat']=df.latlong.apply(lambda x: x['lat'])"
   ]
  },
  {
   "cell_type": "code",
   "execution_count": 13,
   "metadata": {},
   "outputs": [],
   "source": [
    "df['lng']=df.latlong.apply(lambda x: x['lng'])"
   ]
  },
  {
   "cell_type": "code",
   "execution_count": 14,
   "metadata": {},
   "outputs": [
    {
     "data": {
      "text/html": [
       "<div>\n",
       "<style scoped>\n",
       "    .dataframe tbody tr th:only-of-type {\n",
       "        vertical-align: middle;\n",
       "    }\n",
       "\n",
       "    .dataframe tbody tr th {\n",
       "        vertical-align: top;\n",
       "    }\n",
       "\n",
       "    .dataframe thead th {\n",
       "        text-align: right;\n",
       "    }\n",
       "</style>\n",
       "<table border=\"1\" class=\"dataframe\">\n",
       "  <thead>\n",
       "    <tr style=\"text-align: right;\">\n",
       "      <th></th>\n",
       "      <th>school_name</th>\n",
       "      <th>ad</th>\n",
       "      <th>pri_pub</th>\n",
       "      <th>active_stu</th>\n",
       "      <th>latlong</th>\n",
       "      <th>lat</th>\n",
       "      <th>lng</th>\n",
       "    </tr>\n",
       "  </thead>\n",
       "  <tbody>\n",
       "    <tr>\n",
       "      <th>0</th>\n",
       "      <td>Archdiocese of Los Angeles</td>\n",
       "      <td>F‐1</td>\n",
       "      <td>Private, non‐profit</td>\n",
       "      <td>1,625</td>\n",
       "      <td>{'lat': 34.0613259, 'lng': -118.2983873}</td>\n",
       "      <td>34.061326</td>\n",
       "      <td>-118.298387</td>\n",
       "    </tr>\n",
       "    <tr>\n",
       "      <th>1</th>\n",
       "      <td>EF International Academy</td>\n",
       "      <td>F‐1</td>\n",
       "      <td>Private, for profit</td>\n",
       "      <td>1,043</td>\n",
       "      <td>{'lat': 41.1068651, 'lng': -73.76860099999999}</td>\n",
       "      <td>41.106865</td>\n",
       "      <td>-73.768601</td>\n",
       "    </tr>\n",
       "    <tr>\n",
       "      <th>2</th>\n",
       "      <td>Roman Catholic Diocese of Rockville Centre</td>\n",
       "      <td>F‐1</td>\n",
       "      <td>Private, non‐profit</td>\n",
       "      <td>911</td>\n",
       "      <td>{'lat': 40.6578232, 'lng': -73.6453058}</td>\n",
       "      <td>40.657823</td>\n",
       "      <td>-73.645306</td>\n",
       "    </tr>\n",
       "    <tr>\n",
       "      <th>3</th>\n",
       "      <td>Archdiocese of Philadelphia</td>\n",
       "      <td>F‐1</td>\n",
       "      <td>Private, non‐profit</td>\n",
       "      <td>765</td>\n",
       "      <td>{'lat': 39.9575083, 'lng': -75.1677624}</td>\n",
       "      <td>39.957508</td>\n",
       "      <td>-75.167762</td>\n",
       "    </tr>\n",
       "    <tr>\n",
       "      <th>4</th>\n",
       "      <td>Fairmont Private Schools</td>\n",
       "      <td>F‐1</td>\n",
       "      <td>Private, for profit</td>\n",
       "      <td>716</td>\n",
       "      <td>{'lat': 33.830368, 'lng': -117.9360249}</td>\n",
       "      <td>33.830368</td>\n",
       "      <td>-117.936025</td>\n",
       "    </tr>\n",
       "  </tbody>\n",
       "</table>\n",
       "</div>"
      ],
      "text/plain": [
       "                                  school_name   ad              pri_pub  \\\n",
       "0                  Archdiocese of Los Angeles  F‐1  Private, non‐profit   \n",
       "1                    EF International Academy  F‐1  Private, for profit   \n",
       "2  Roman Catholic Diocese of Rockville Centre  F‐1  Private, non‐profit   \n",
       "3                 Archdiocese of Philadelphia  F‐1  Private, non‐profit   \n",
       "4                    Fairmont Private Schools  F‐1  Private, for profit   \n",
       "\n",
       "  active_stu                                         latlong        lat  \\\n",
       "0      1,625        {'lat': 34.0613259, 'lng': -118.2983873}  34.061326   \n",
       "1      1,043  {'lat': 41.1068651, 'lng': -73.76860099999999}  41.106865   \n",
       "2        911         {'lat': 40.6578232, 'lng': -73.6453058}  40.657823   \n",
       "3        765         {'lat': 39.9575083, 'lng': -75.1677624}  39.957508   \n",
       "4        716         {'lat': 33.830368, 'lng': -117.9360249}  33.830368   \n",
       "\n",
       "          lng  \n",
       "0 -118.298387  \n",
       "1  -73.768601  \n",
       "2  -73.645306  \n",
       "3  -75.167762  \n",
       "4 -117.936025  "
      ]
     },
     "execution_count": 14,
     "metadata": {},
     "output_type": "execute_result"
    }
   ],
   "source": [
    "df.head()"
   ]
  },
  {
   "cell_type": "code",
   "execution_count": 15,
   "metadata": {},
   "outputs": [],
   "source": [
    "df = df.drop('latlong', axis = 1)"
   ]
  },
  {
   "cell_type": "code",
   "execution_count": 16,
   "metadata": {},
   "outputs": [],
   "source": [
    "df.active_stu=df.active_stu.str.replace(',','').astype(int)"
   ]
  },
  {
   "cell_type": "code",
   "execution_count": 17,
   "metadata": {},
   "outputs": [],
   "source": [
    "df.to_csv('map_.csv', index = False)"
   ]
  },
  {
   "cell_type": "code",
   "execution_count": 18,
   "metadata": {},
   "outputs": [
    {
     "data": {
      "text/plain": [
       "school_name     object\n",
       "ad              object\n",
       "pri_pub         object\n",
       "active_stu       int64\n",
       "lat            float64\n",
       "lng            float64\n",
       "dtype: object"
      ]
     },
     "execution_count": 18,
     "metadata": {},
     "output_type": "execute_result"
    }
   ],
   "source": [
    "df.dtypes"
   ]
  },
  {
   "cell_type": "code",
   "execution_count": 19,
   "metadata": {},
   "outputs": [],
   "source": [
    "df['private'] = df.pri_pub.str.contains('Private')"
   ]
  },
  {
   "cell_type": "code",
   "execution_count": 20,
   "metadata": {},
   "outputs": [],
   "source": [
    "df.to_csv('map_2.csv', index = False)"
   ]
  },
  {
   "cell_type": "code",
   "execution_count": 21,
   "metadata": {},
   "outputs": [
    {
     "data": {
      "text/html": [
       "<div>\n",
       "<style scoped>\n",
       "    .dataframe tbody tr th:only-of-type {\n",
       "        vertical-align: middle;\n",
       "    }\n",
       "\n",
       "    .dataframe tbody tr th {\n",
       "        vertical-align: top;\n",
       "    }\n",
       "\n",
       "    .dataframe thead th {\n",
       "        text-align: right;\n",
       "    }\n",
       "</style>\n",
       "<table border=\"1\" class=\"dataframe\">\n",
       "  <thead>\n",
       "    <tr style=\"text-align: right;\">\n",
       "      <th></th>\n",
       "      <th>school_name</th>\n",
       "      <th>ad</th>\n",
       "      <th>pri_pub</th>\n",
       "      <th>active_stu</th>\n",
       "      <th>lat</th>\n",
       "      <th>lng</th>\n",
       "      <th>private</th>\n",
       "    </tr>\n",
       "  </thead>\n",
       "  <tbody>\n",
       "    <tr>\n",
       "      <th>0</th>\n",
       "      <td>Archdiocese of Los Angeles</td>\n",
       "      <td>F‐1</td>\n",
       "      <td>Private, non‐profit</td>\n",
       "      <td>1625</td>\n",
       "      <td>34.061326</td>\n",
       "      <td>-118.298387</td>\n",
       "      <td>True</td>\n",
       "    </tr>\n",
       "    <tr>\n",
       "      <th>1</th>\n",
       "      <td>EF International Academy</td>\n",
       "      <td>F‐1</td>\n",
       "      <td>Private, for profit</td>\n",
       "      <td>1043</td>\n",
       "      <td>41.106865</td>\n",
       "      <td>-73.768601</td>\n",
       "      <td>True</td>\n",
       "    </tr>\n",
       "    <tr>\n",
       "      <th>2</th>\n",
       "      <td>Roman Catholic Diocese of Rockville Centre</td>\n",
       "      <td>F‐1</td>\n",
       "      <td>Private, non‐profit</td>\n",
       "      <td>911</td>\n",
       "      <td>40.657823</td>\n",
       "      <td>-73.645306</td>\n",
       "      <td>True</td>\n",
       "    </tr>\n",
       "    <tr>\n",
       "      <th>3</th>\n",
       "      <td>Archdiocese of Philadelphia</td>\n",
       "      <td>F‐1</td>\n",
       "      <td>Private, non‐profit</td>\n",
       "      <td>765</td>\n",
       "      <td>39.957508</td>\n",
       "      <td>-75.167762</td>\n",
       "      <td>True</td>\n",
       "    </tr>\n",
       "    <tr>\n",
       "      <th>4</th>\n",
       "      <td>Fairmont Private Schools</td>\n",
       "      <td>F‐1</td>\n",
       "      <td>Private, for profit</td>\n",
       "      <td>716</td>\n",
       "      <td>33.830368</td>\n",
       "      <td>-117.936025</td>\n",
       "      <td>True</td>\n",
       "    </tr>\n",
       "  </tbody>\n",
       "</table>\n",
       "</div>"
      ],
      "text/plain": [
       "                                  school_name   ad              pri_pub  \\\n",
       "0                  Archdiocese of Los Angeles  F‐1  Private, non‐profit   \n",
       "1                    EF International Academy  F‐1  Private, for profit   \n",
       "2  Roman Catholic Diocese of Rockville Centre  F‐1  Private, non‐profit   \n",
       "3                 Archdiocese of Philadelphia  F‐1  Private, non‐profit   \n",
       "4                    Fairmont Private Schools  F‐1  Private, for profit   \n",
       "\n",
       "   active_stu        lat         lng  private  \n",
       "0        1625  34.061326 -118.298387     True  \n",
       "1        1043  41.106865  -73.768601     True  \n",
       "2         911  40.657823  -73.645306     True  \n",
       "3         765  39.957508  -75.167762     True  \n",
       "4         716  33.830368 -117.936025     True  "
      ]
     },
     "execution_count": 21,
     "metadata": {},
     "output_type": "execute_result"
    }
   ],
   "source": [
    "df.head()"
   ]
  },
  {
   "cell_type": "code",
   "execution_count": 35,
   "metadata": {},
   "outputs": [],
   "source": [
    "df['cath'] = df.school_name.str.contains('Archdiocese', 'Catholic')"
   ]
  },
  {
   "cell_type": "code",
   "execution_count": 36,
   "metadata": {},
   "outputs": [],
   "source": [
    "df['chiris'] = df.school_name.str.contains('Christian')"
   ]
  },
  {
   "cell_type": "code",
   "execution_count": 38,
   "metadata": {},
   "outputs": [],
   "source": [
    "df['pope'] = df.school_name.str.contains('Pope')"
   ]
  },
  {
   "cell_type": "code",
   "execution_count": 39,
   "metadata": {},
   "outputs": [
    {
     "data": {
      "text/html": [
       "<div>\n",
       "<style scoped>\n",
       "    .dataframe tbody tr th:only-of-type {\n",
       "        vertical-align: middle;\n",
       "    }\n",
       "\n",
       "    .dataframe tbody tr th {\n",
       "        vertical-align: top;\n",
       "    }\n",
       "\n",
       "    .dataframe thead th {\n",
       "        text-align: right;\n",
       "    }\n",
       "</style>\n",
       "<table border=\"1\" class=\"dataframe\">\n",
       "  <thead>\n",
       "    <tr style=\"text-align: right;\">\n",
       "      <th></th>\n",
       "      <th>school_name</th>\n",
       "      <th>ad</th>\n",
       "      <th>pri_pub</th>\n",
       "      <th>active_stu</th>\n",
       "      <th>lat</th>\n",
       "      <th>lng</th>\n",
       "      <th>private</th>\n",
       "      <th>cath</th>\n",
       "      <th>chiris</th>\n",
       "      <th>pope</th>\n",
       "    </tr>\n",
       "  </thead>\n",
       "  <tbody>\n",
       "    <tr>\n",
       "      <th>0</th>\n",
       "      <td>Archdiocese of Los Angeles</td>\n",
       "      <td>F‐1</td>\n",
       "      <td>Private, non‐profit</td>\n",
       "      <td>1625</td>\n",
       "      <td>34.061326</td>\n",
       "      <td>-118.298387</td>\n",
       "      <td>True</td>\n",
       "      <td>True</td>\n",
       "      <td>False</td>\n",
       "      <td>False</td>\n",
       "    </tr>\n",
       "    <tr>\n",
       "      <th>1</th>\n",
       "      <td>EF International Academy</td>\n",
       "      <td>F‐1</td>\n",
       "      <td>Private, for profit</td>\n",
       "      <td>1043</td>\n",
       "      <td>41.106865</td>\n",
       "      <td>-73.768601</td>\n",
       "      <td>True</td>\n",
       "      <td>False</td>\n",
       "      <td>False</td>\n",
       "      <td>False</td>\n",
       "    </tr>\n",
       "    <tr>\n",
       "      <th>2</th>\n",
       "      <td>Roman Catholic Diocese of Rockville Centre</td>\n",
       "      <td>F‐1</td>\n",
       "      <td>Private, non‐profit</td>\n",
       "      <td>911</td>\n",
       "      <td>40.657823</td>\n",
       "      <td>-73.645306</td>\n",
       "      <td>True</td>\n",
       "      <td>False</td>\n",
       "      <td>False</td>\n",
       "      <td>False</td>\n",
       "    </tr>\n",
       "    <tr>\n",
       "      <th>3</th>\n",
       "      <td>Archdiocese of Philadelphia</td>\n",
       "      <td>F‐1</td>\n",
       "      <td>Private, non‐profit</td>\n",
       "      <td>765</td>\n",
       "      <td>39.957508</td>\n",
       "      <td>-75.167762</td>\n",
       "      <td>True</td>\n",
       "      <td>True</td>\n",
       "      <td>False</td>\n",
       "      <td>False</td>\n",
       "    </tr>\n",
       "    <tr>\n",
       "      <th>4</th>\n",
       "      <td>Fairmont Private Schools</td>\n",
       "      <td>F‐1</td>\n",
       "      <td>Private, for profit</td>\n",
       "      <td>716</td>\n",
       "      <td>33.830368</td>\n",
       "      <td>-117.936025</td>\n",
       "      <td>True</td>\n",
       "      <td>False</td>\n",
       "      <td>False</td>\n",
       "      <td>False</td>\n",
       "    </tr>\n",
       "  </tbody>\n",
       "</table>\n",
       "</div>"
      ],
      "text/plain": [
       "                                  school_name   ad              pri_pub  \\\n",
       "0                  Archdiocese of Los Angeles  F‐1  Private, non‐profit   \n",
       "1                    EF International Academy  F‐1  Private, for profit   \n",
       "2  Roman Catholic Diocese of Rockville Centre  F‐1  Private, non‐profit   \n",
       "3                 Archdiocese of Philadelphia  F‐1  Private, non‐profit   \n",
       "4                    Fairmont Private Schools  F‐1  Private, for profit   \n",
       "\n",
       "   active_stu        lat         lng  private   cath  chiris   pope  \n",
       "0        1625  34.061326 -118.298387     True   True   False  False  \n",
       "1        1043  41.106865  -73.768601     True  False   False  False  \n",
       "2         911  40.657823  -73.645306     True  False   False  False  \n",
       "3         765  39.957508  -75.167762     True   True   False  False  \n",
       "4         716  33.830368 -117.936025     True  False   False  False  "
      ]
     },
     "execution_count": 39,
     "metadata": {},
     "output_type": "execute_result"
    }
   ],
   "source": [
    "df.head()"
   ]
  },
  {
   "cell_type": "code",
   "execution_count": 40,
   "metadata": {},
   "outputs": [],
   "source": [
    "df.to_csv('reli.csv', index = False)"
   ]
  },
  {
   "cell_type": "code",
   "execution_count": null,
   "metadata": {},
   "outputs": [],
   "source": []
  }
 ],
 "metadata": {
  "kernelspec": {
   "display_name": "Python 3",
   "language": "python",
   "name": "python3"
  },
  "language_info": {
   "codemirror_mode": {
    "name": "ipython",
    "version": 3
   },
   "file_extension": ".py",
   "mimetype": "text/x-python",
   "name": "python",
   "nbconvert_exporter": "python",
   "pygments_lexer": "ipython3",
   "version": "3.7.1"
  }
 },
 "nbformat": 4,
 "nbformat_minor": 2
}
